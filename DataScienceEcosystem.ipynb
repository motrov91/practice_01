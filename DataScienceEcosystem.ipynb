{
 "cells": [
  {
   "cell_type": "markdown",
   "id": "91376ff9",
   "metadata": {},
   "source": [
    "# Data Science Tools and Ecosystem"
   ]
  },
  {
   "cell_type": "markdown",
   "id": "e45c8e0a",
   "metadata": {},
   "source": [
    "In this notebool, Data Science Tools and Ecosystem are summarized."
   ]
  },
  {
   "cell_type": "markdown",
   "id": "cc159b09",
   "metadata": {},
   "source": [
    "#Some of the popular languages that Data Scientists use are:\n",
    "1. Python.\n",
    "2. R\n",
    "3. C++"
   ]
  },
  {
   "cell_type": "markdown",
   "id": "1f247fcf",
   "metadata": {},
   "source": [
    "# Some of the commonly used libraries used by Data Scientists include:\n",
    "1. Pandas\n",
    "2. Numpy\n",
    "3. ggplot to R"
   ]
  },
  {
   "cell_type": "markdown",
   "id": "be783232",
   "metadata": {},
   "source": [
    "| Data Science Tools |"
   ]
  },
  {
   "cell_type": "markdown",
   "id": "9539f8b5",
   "metadata": {},
   "source": [
    "### introducing arithmetic expression"
   ]
  },
  {
   "cell_type": "markdown",
   "id": "46560abe",
   "metadata": {},
   "source": [
    "**Objectives:**\n",
    " - List popular languages for Data Science\n",
    " - Some of the commonly used libraries used by Data Scientists include:\n",
    " - Data Science Tools"
   ]
  },
  {
   "cell_type": "code",
   "execution_count": 11,
   "id": "173d37b2",
   "metadata": {},
   "outputs": [
    {
     "data": {
      "text/plain": [
       "17"
      ]
     },
     "execution_count": 11,
     "metadata": {},
     "output_type": "execute_result"
    }
   ],
   "source": [
    "(3*4)+5\n",
    "#This a simple arithmetic expression to mutiply then add integers"
   ]
  },
  {
   "cell_type": "code",
   "execution_count": 10,
   "id": "4f1e9337",
   "metadata": {},
   "outputs": [
    {
     "name": "stdout",
     "output_type": "stream",
     "text": [
      "3.3333333333333335\n"
     ]
    }
   ],
   "source": [
    "minutes = 200\n",
    "convertToHours = 200 / 60\n",
    "print(convertToHours)\n",
    "#This will convert 200 minutes to hours by diving by 60"
   ]
  },
  {
   "cell_type": "markdown",
   "id": "d16fbdd7",
   "metadata": {},
   "source": [
    "## Author\n",
    "Manuel Fernando Ramírez Villamil."
   ]
  },
  {
   "cell_type": "code",
   "execution_count": null,
   "id": "022918af",
   "metadata": {},
   "outputs": [],
   "source": []
  }
 ],
 "metadata": {
  "kernelspec": {
   "display_name": "Python 3 (ipykernel)",
   "language": "python",
   "name": "python3"
  },
  "language_info": {
   "codemirror_mode": {
    "name": "ipython",
    "version": 3
   },
   "file_extension": ".py",
   "mimetype": "text/x-python",
   "name": "python",
   "nbconvert_exporter": "python",
   "pygments_lexer": "ipython3",
   "version": "3.11.3"
  }
 },
 "nbformat": 4,
 "nbformat_minor": 5
}
